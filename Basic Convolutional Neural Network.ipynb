{
 "cells": [
  {
   "cell_type": "markdown",
   "metadata": {},
   "source": [
    "From Justin Johnson:\n",
    "\n",
    "> In TensorFlow, packages like Keras, TensorFlow-Slim, and TFLearn provide higher-level abstractions over raw computational graphs that are useful for building neural networks.\n",
    "\n",
    "> In PyTorch, the nn package serves this same purpose. The nn package defines a set of Modules, which are roughly equivalent to neural network layers. A Module receives input Tensors and computes output Tensors, but may also hold internal state such as Tensors containing learnable parameters. The nn package also defines a set of useful loss functions that are commonly used when training neural networks."
   ]
  },
  {
   "cell_type": "code",
   "execution_count": 1,
   "metadata": {},
   "outputs": [],
   "source": [
    "import torch\n",
    "import torch.nn as nn\n",
    "\n",
    "import torchvision\n",
    "import torchvision.transforms as transforms"
   ]
  },
  {
   "cell_type": "code",
   "execution_count": 25,
   "metadata": {},
   "outputs": [
    {
     "name": "stdout",
     "output_type": "stream",
     "text": [
      "cpu\n"
     ]
    }
   ],
   "source": [
    "device = torch.device('cuda' if torch.cuda.is_available() else 'cpu')\n",
    "print(device)"
   ]
  },
  {
   "cell_type": "markdown",
   "metadata": {},
   "source": [
    "# Hyperparameters"
   ]
  },
  {
   "cell_type": "code",
   "execution_count": 3,
   "metadata": {},
   "outputs": [],
   "source": [
    "# Training\n",
    "num_epochs = 5\n",
    "batch_size = 64\n",
    "learning_rate = 0.001\n",
    "num_classes = 100"
   ]
  },
  {
   "cell_type": "markdown",
   "metadata": {},
   "source": [
    "# Dataset"
   ]
  },
  {
   "cell_type": "code",
   "execution_count": 10,
   "metadata": {},
   "outputs": [],
   "source": [
    "training_data = torchvision.datasets.MNIST(root=\"data\",\n",
    "                                           download=True,\n",
    "                                           transform=transforms.ToTensor(),\n",
    "                                           train=True)\n",
    "\n",
    "training_dataloader = torch.utils.data.DataLoader(training_data, \n",
    "                                                  batch_size=batch_size,\n",
    "                                                  shuffle=True)\n",
    "\n",
    "# Testing Set\n",
    "testing_data = torchvision.datasets.MNIST(root=\"data\",\n",
    "                                          transform=transforms.ToTensor(),\n",
    "                                          train=False)\n",
    "\n",
    "testing_dataloader = torch.utils.data.DataLoader(testing_data,\n",
    "                                                batch_size=batch_size,\n",
    "                                                shuffle=False)"
   ]
  },
  {
   "cell_type": "code",
   "execution_count": 11,
   "metadata": {},
   "outputs": [
    {
     "data": {
      "text/plain": [
       "10000"
      ]
     },
     "execution_count": 11,
     "metadata": {},
     "output_type": "execute_result"
    }
   ],
   "source": [
    "len(testing_data)"
   ]
  },
  {
   "cell_type": "markdown",
   "metadata": {},
   "source": [
    "# Model"
   ]
  },
  {
   "cell_type": "code",
   "execution_count": 13,
   "metadata": {},
   "outputs": [],
   "source": [
    "class ConvNet(nn.Module):\n",
    "    \n",
    "    def __init__(self, num_classes, kernel_size=5, stride=1, padding=2):\n",
    "        super().__init__()\n",
    "        self.layer1 = nn.Sequential(\n",
    "            nn.Conv2d(1, 16, kernel_size, stride, padding),\n",
    "            nn.BatchNorm2d(16),\n",
    "            nn.ReLU(),\n",
    "            nn.MaxPool2d(kernel_size=2, stride=2)\n",
    "        )\n",
    "        self.layer2 = nn.Sequential(\n",
    "            nn.Conv2d(16, 32, kernel_size, stride, padding),\n",
    "            nn.BatchNorm2d(32),\n",
    "            nn.ReLU(),\n",
    "            nn.MaxPool2d(kernel_size=2, stride=2)\n",
    "        )\n",
    "        self.fc = nn.Linear(7*7*32, num_classes)\n",
    "        \n",
    "    def forward(self, x):\n",
    "        \"\"\" \n",
    "        Defines the computation performed at every call.\n",
    "        \n",
    "        Should be overridden by all subclasses.\n",
    "\n",
    "        \"\"\"\n",
    "        output = self.layer1(x)\n",
    "        output = self.layer2(output)\n",
    "        output = output.reshape(output.size(0), -1)\n",
    "        output = self.fc(output)\n",
    "        return output"
   ]
  },
  {
   "cell_type": "code",
   "execution_count": 18,
   "metadata": {},
   "outputs": [],
   "source": [
    "model = ConvNet(num_classes).to(device)"
   ]
  },
  {
   "cell_type": "markdown",
   "metadata": {},
   "source": [
    "# Cost Function and Optimizer"
   ]
  },
  {
   "cell_type": "code",
   "execution_count": 19,
   "metadata": {},
   "outputs": [],
   "source": [
    "criterion = nn.CrossEntropyLoss()\n",
    "optimizer = torch.optim.Adam(model.parameters(), lr=learning_rate)"
   ]
  },
  {
   "cell_type": "markdown",
   "metadata": {},
   "source": [
    "# Training"
   ]
  },
  {
   "cell_type": "code",
   "execution_count": 26,
   "metadata": {},
   "outputs": [],
   "source": [
    "total_steps = len(training_dataloader)"
   ]
  },
  {
   "cell_type": "code",
   "execution_count": 30,
   "metadata": {
    "scrolled": true
   },
   "outputs": [
    {
     "name": "stdout",
     "output_type": "stream",
     "text": [
      "Epoch [1/5], Step [100/938], Loss: 0.2180\n",
      "Epoch [1/5], Step [200/938], Loss: 0.0637\n",
      "Epoch [1/5], Step [300/938], Loss: 0.0354\n",
      "Epoch [1/5], Step [400/938], Loss: 0.2405\n",
      "Epoch [1/5], Step [500/938], Loss: 0.0241\n",
      "Epoch [1/5], Step [600/938], Loss: 0.1091\n",
      "Epoch [1/5], Step [700/938], Loss: 0.0565\n",
      "Epoch [1/5], Step [800/938], Loss: 0.0605\n",
      "Epoch [1/5], Step [900/938], Loss: 0.0042\n",
      "Epoch [2/5], Step [100/938], Loss: 0.0114\n",
      "Epoch [2/5], Step [200/938], Loss: 0.0130\n",
      "Epoch [2/5], Step [300/938], Loss: 0.0337\n",
      "Epoch [2/5], Step [400/938], Loss: 0.1116\n",
      "Epoch [2/5], Step [500/938], Loss: 0.1043\n",
      "Epoch [2/5], Step [600/938], Loss: 0.0981\n",
      "Epoch [2/5], Step [700/938], Loss: 0.0239\n",
      "Epoch [2/5], Step [800/938], Loss: 0.0283\n",
      "Epoch [2/5], Step [900/938], Loss: 0.0568\n",
      "Epoch [3/5], Step [100/938], Loss: 0.0126\n",
      "Epoch [3/5], Step [200/938], Loss: 0.0278\n",
      "Epoch [3/5], Step [300/938], Loss: 0.0140\n",
      "Epoch [3/5], Step [400/938], Loss: 0.0065\n",
      "Epoch [3/5], Step [500/938], Loss: 0.0284\n",
      "Epoch [3/5], Step [600/938], Loss: 0.0030\n",
      "Epoch [3/5], Step [700/938], Loss: 0.0326\n",
      "Epoch [3/5], Step [800/938], Loss: 0.0053\n",
      "Epoch [3/5], Step [900/938], Loss: 0.0101\n",
      "Epoch [4/5], Step [100/938], Loss: 0.0012\n",
      "Epoch [4/5], Step [200/938], Loss: 0.0242\n",
      "Epoch [4/5], Step [300/938], Loss: 0.0327\n",
      "Epoch [4/5], Step [400/938], Loss: 0.0321\n",
      "Epoch [4/5], Step [500/938], Loss: 0.0064\n",
      "Epoch [4/5], Step [600/938], Loss: 0.0923\n",
      "Epoch [4/5], Step [700/938], Loss: 0.0266\n",
      "Epoch [4/5], Step [800/938], Loss: 0.0077\n",
      "Epoch [4/5], Step [900/938], Loss: 0.0049\n",
      "Epoch [5/5], Step [100/938], Loss: 0.0038\n",
      "Epoch [5/5], Step [200/938], Loss: 0.0055\n",
      "Epoch [5/5], Step [300/938], Loss: 0.0350\n",
      "Epoch [5/5], Step [400/938], Loss: 0.0115\n",
      "Epoch [5/5], Step [500/938], Loss: 0.0227\n",
      "Epoch [5/5], Step [600/938], Loss: 0.0392\n",
      "Epoch [5/5], Step [700/938], Loss: 0.0155\n",
      "Epoch [5/5], Step [800/938], Loss: 0.0143\n",
      "Epoch [5/5], Step [900/938], Loss: 0.0537\n"
     ]
    }
   ],
   "source": [
    "for epoch in range(num_epochs):\n",
    "    \n",
    "    for index, batch in enumerate(training_dataloader):\n",
    "        images, labels = batch\n",
    "        images = images.to(device)\n",
    "        labels = labels.to(device)\n",
    "        \n",
    "        predictions = model(images)\n",
    "        \n",
    "        # Optimize\n",
    "        loss = criterion(predictions, labels)\n",
    "        \n",
    "        # Set the gradients of the Tensors\n",
    "        # that are to be updated to zero\n",
    "        optimizer.zero_grad()\n",
    "        \n",
    "        # Compute gradients of the loss with respect to the\n",
    "        # model parameters\n",
    "        loss.backward()\n",
    "        \n",
    "        # The step function then updates the models parameters\n",
    "        optimizer.step()\n",
    "        \n",
    "        if (index+1) % 100 == 0:\n",
    "            print ('Epoch [{}/{}], Step [{}/{}], Loss: {:.4f}' \n",
    "                   .format(epoch+1, num_epochs, index+1, total_steps, loss.item()))\n",
    "        "
   ]
  },
  {
   "cell_type": "markdown",
   "metadata": {},
   "source": [
    "# Testing"
   ]
  },
  {
   "cell_type": "code",
   "execution_count": 57,
   "metadata": {},
   "outputs": [
    {
     "name": "stdout",
     "output_type": "stream",
     "text": [
      "Test Accuracy of the model on the 10000 test images: 99.12 %\n"
     ]
    }
   ],
   "source": [
    "correct, total = 0, 0\n",
    "\n",
    "for batch in testing_dataloader:\n",
    "    images, labels = batch\n",
    "    \n",
    "    images = images.to(device)\n",
    "    labels = labels.to(device)\n",
    "    \n",
    "    output = model(images)\n",
    "    \n",
    "    # Why use data?\n",
    "    _, predictions = torch.max(output.data, 1)\n",
    "    total += labels.size(0)\n",
    "    # Use torch.Tensor.item() to get a Python number from a tensor containing a single value:\n",
    "    correct += (predictions == labels).sum().item()\n",
    "\n",
    "print('Test Accuracy of the model on the 10000 test images: {} %'.format(100 * correct / total))"
   ]
  }
 ],
 "metadata": {
  "kernelspec": {
   "display_name": "Python 3",
   "language": "python",
   "name": "python3"
  },
  "language_info": {
   "codemirror_mode": {
    "name": "ipython",
    "version": 3
   },
   "file_extension": ".py",
   "mimetype": "text/x-python",
   "name": "python",
   "nbconvert_exporter": "python",
   "pygments_lexer": "ipython3",
   "version": "3.6.6"
  }
 },
 "nbformat": 4,
 "nbformat_minor": 2
}
